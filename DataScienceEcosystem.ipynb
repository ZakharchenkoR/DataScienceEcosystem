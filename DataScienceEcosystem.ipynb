{
 "cells": [
  {
   "cell_type": "markdown",
   "id": "dc11762f-49bb-43c7-bd35-757dd8b0de7f",
   "metadata": {},
   "source": [
    "# Data Science Tools and Ecosystem"
   ]
  },
  {
   "cell_type": "markdown",
   "id": "adf89dbd-51b8-4a51-8e6e-6750a8188cfa",
   "metadata": {},
   "source": [
    "In this notebook, Data Science Tools and Ecosystem are summarized."
   ]
  },
  {
   "cell_type": "markdown",
   "id": "e83b7216-b343-4d78-832f-656a1b9607df",
   "metadata": {},
   "source": [
    "**Objectives:**\n",
    "- List popular languages for Data Science\n",
    "- List popular Data Science libraries\n",
    "- List popular Data Science tools\n",
    "- Basic arithmetic operations in Python\n",
    "- Converting minutes to hours using Python expressions"
   ]
  },
  {
   "cell_type": "markdown",
   "id": "402fee11-ddfc-4d44-b200-ce8797d5944f",
   "metadata": {},
   "source": [
    "Some of the popular languages that Data Scientists use are:\n",
    "1. Python\n",
    "2. R\n",
    "3. SQL\n",
    "4. Java\n",
    "5. Scala\n",
    "6. C++\n",
    "7. Java Script\n",
    "8. Julia"
   ]
  },
  {
   "cell_type": "markdown",
   "id": "b1f2f77f-1108-4d84-a95c-ecc0c5c460e9",
   "metadata": {},
   "source": [
    "Some of the commonly used libraries used by Data Scientists include:\n",
    "1. Pandas\n",
    "2. NumPy\n",
    "3. Matplotlib\n",
    "4. Seaborn\n",
    "5. Scikit-learn\n",
    "6. Keras\n",
    "7. TensorFlow\n",
    "8. Pytorch\n"
   ]
  },
  {
   "cell_type": "markdown",
   "id": "3316b117-39b1-4728-b233-59572daabc5b",
   "metadata": {},
   "source": [
    "| Data Science Tools |\n",
    "|--------------------|\n",
    "| HadoopHDFS        |\n",
    "| Apache Kafka      |\n",
    "| Kibana           |\n",
    "| TensorFlow       |\n",
    "| IBM Watson Studio |\n",
    "| RStudio          |"
   ]
  },
  {
   "cell_type": "markdown",
   "id": "3338f64e-9c88-4154-89de-54944ec7e8af",
   "metadata": {},
   "source": [
    "### Below are a few examples of evaluating arithmetic expressions in Python."
   ]
  },
  {
   "cell_type": "code",
   "execution_count": 4,
   "id": "557d5ec5-736c-4465-a036-9fca2130e163",
   "metadata": {},
   "outputs": [
    {
     "data": {
      "text/plain": [
       "17"
      ]
     },
     "execution_count": 4,
     "metadata": {},
     "output_type": "execute_result"
    }
   ],
   "source": [
    "# This a simple arithmetic expression to mutiply then add integers\n",
    "(3*4)+5"
   ]
  },
  {
   "cell_type": "code",
   "execution_count": 5,
   "id": "556d9901-56f4-4e67-8c66-d9252cd56098",
   "metadata": {},
   "outputs": [
    {
     "data": {
      "text/plain": [
       "3.3333333333333335"
      ]
     },
     "execution_count": 5,
     "metadata": {},
     "output_type": "execute_result"
    }
   ],
   "source": [
    "# This will convert 200 minutes to hours by diving by 60\n",
    "200/60"
   ]
  },
  {
   "cell_type": "markdown",
   "id": "02d8a265-bde7-4b05-b1d0-60b788698c8f",
   "metadata": {},
   "source": [
    "## Author\n",
    "Roman Zakharchenko"
   ]
  },
  {
   "cell_type": "code",
   "execution_count": null,
   "id": "0e859e96-d5ac-419b-bd27-72e8479a4cfe",
   "metadata": {},
   "outputs": [],
   "source": []
  }
 ],
 "metadata": {
  "kernelspec": {
   "display_name": "Python 3 (ipykernel)",
   "language": "python",
   "name": "python3"
  },
  "language_info": {
   "codemirror_mode": {
    "name": "ipython",
    "version": 3
   },
   "file_extension": ".py",
   "mimetype": "text/x-python",
   "name": "python",
   "nbconvert_exporter": "python",
   "pygments_lexer": "ipython3",
   "version": "3.12.9"
  }
 },
 "nbformat": 4,
 "nbformat_minor": 5
}
